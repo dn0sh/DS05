{
 "cells": [
  {
   "cell_type": "markdown",
   "metadata": {},
   "source": [
    "# Задание"
   ]
  },
  {
   "cell_type": "markdown",
   "metadata": {},
   "source": [
    "Данные по клиентам заархивированы в формате zip - сразу их разархивируем. Для этого нам понадобится библиотека zipfile."
   ]
  },
  {
   "cell_type": "code",
   "execution_count": 1,
   "metadata": {
    "ExecuteTime": {
     "end_time": "2023-06-10T14:53:51.350377Z",
     "start_time": "2023-06-10T14:53:48.759171Z"
    }
   },
   "outputs": [],
   "source": [
    "import zipfile\n",
    "\n",
    "import pandas as pd"
   ]
  },
  {
   "cell_type": "code",
   "execution_count": 2,
   "metadata": {
    "ExecuteTime": {
     "end_time": "2023-06-10T14:53:54.259570Z",
     "start_time": "2023-06-10T14:53:52.102891Z"
    }
   },
   "outputs": [],
   "source": [
    "with zipfile.ZipFile('../datasets/client_info.csv.zip', 'r') as zip_ref:\n",
    "    zip_ref.extractall('../datasets')"
   ]
  },
  {
   "cell_type": "code",
   "execution_count": 3,
   "metadata": {
    "ExecuteTime": {
     "end_time": "2023-06-10T14:54:07.701227Z",
     "start_time": "2023-06-10T14:54:00.991872Z"
    },
    "id": "dxhM1MLjPc31"
   },
   "outputs": [],
   "source": [
    "df = pd.read_csv('../datasets/client_info.csv')"
   ]
  },
  {
   "cell_type": "code",
   "execution_count": 4,
   "metadata": {
    "ExecuteTime": {
     "end_time": "2023-06-10T14:54:08.360294Z",
     "start_time": "2023-06-10T14:54:08.327764Z"
    }
   },
   "outputs": [
    {
     "data": {
      "text/html": [
       "<div>\n",
       "<style scoped>\n",
       "    .dataframe tbody tr th:only-of-type {\n",
       "        vertical-align: middle;\n",
       "    }\n",
       "\n",
       "    .dataframe tbody tr th {\n",
       "        vertical-align: top;\n",
       "    }\n",
       "\n",
       "    .dataframe thead th {\n",
       "        text-align: right;\n",
       "    }\n",
       "</style>\n",
       "<table border=\"1\" class=\"dataframe\">\n",
       "  <thead>\n",
       "    <tr style=\"text-align: right;\">\n",
       "      <th></th>\n",
       "      <th>ID</th>\n",
       "      <th>CR_PROD_CNT_IL</th>\n",
       "      <th>AMOUNT_RUB_CLO_PRC</th>\n",
       "      <th>APP_REGISTR_RGN_CODE</th>\n",
       "      <th>TURNOVER_DYNAMIC_IL_1M</th>\n",
       "      <th>LDEAL_YQZ_COM_GROUP</th>\n",
       "      <th>LDEAL_YQZ_CHRG_GROUP</th>\n",
       "      <th>AVG_PCT_MONTH_TO_PCLOSE_GROUP</th>\n",
       "      <th>MAX_PCLOSE_DATE_GROUP</th>\n",
       "      <th>AVG_PCT_DEBT_TO_DEAL_AMT_GROUP</th>\n",
       "      <th>...</th>\n",
       "      <th>CLNT_SETUP_TENOR</th>\n",
       "      <th>TURNOVER_DYNAMIC_PAYM_3M</th>\n",
       "      <th>TURNOVER_DYNAMIC_PAYM_1M</th>\n",
       "      <th>TRANS_AMOUNT_TENDENCY3M</th>\n",
       "      <th>TRANS_CNT_TENDENCY3M</th>\n",
       "      <th>REST_DYNAMIC_CC_1M</th>\n",
       "      <th>TURNOVER_DYNAMIC_CC_1M</th>\n",
       "      <th>REST_DYNAMIC_CC_3M</th>\n",
       "      <th>TURNOVER_DYNAMIC_CC_3M</th>\n",
       "      <th>TARGET</th>\n",
       "    </tr>\n",
       "  </thead>\n",
       "  <tbody>\n",
       "    <tr>\n",
       "      <th>0</th>\n",
       "      <td>146841</td>\n",
       "      <td>0</td>\n",
       "      <td>0.000000</td>\n",
       "      <td>неизвестна</td>\n",
       "      <td>0.0</td>\n",
       "      <td>неизвестна</td>\n",
       "      <td>неизвестна</td>\n",
       "      <td>неизвестна</td>\n",
       "      <td>неизвестна</td>\n",
       "      <td>неизвестна</td>\n",
       "      <td>...</td>\n",
       "      <td>1.593023</td>\n",
       "      <td>0.0</td>\n",
       "      <td>0.0</td>\n",
       "      <td>0.483032</td>\n",
       "      <td>0.406780</td>\n",
       "      <td>0.0</td>\n",
       "      <td>0.0</td>\n",
       "      <td>0.0</td>\n",
       "      <td>0.0</td>\n",
       "      <td>0</td>\n",
       "    </tr>\n",
       "    <tr>\n",
       "      <th>1</th>\n",
       "      <td>146842</td>\n",
       "      <td>0</td>\n",
       "      <td>0.041033</td>\n",
       "      <td>неизвестна</td>\n",
       "      <td>0.0</td>\n",
       "      <td>неизвестна</td>\n",
       "      <td>неизвестна</td>\n",
       "      <td>неизвестна</td>\n",
       "      <td>неизвестна</td>\n",
       "      <td>неизвестна</td>\n",
       "      <td>...</td>\n",
       "      <td>1.587647</td>\n",
       "      <td>0.0</td>\n",
       "      <td>0.0</td>\n",
       "      <td>0.394340</td>\n",
       "      <td>0.545455</td>\n",
       "      <td>0.0</td>\n",
       "      <td>0.0</td>\n",
       "      <td>0.0</td>\n",
       "      <td>0.0</td>\n",
       "      <td>0</td>\n",
       "    </tr>\n",
       "    <tr>\n",
       "      <th>2</th>\n",
       "      <td>146843</td>\n",
       "      <td>0</td>\n",
       "      <td>0.006915</td>\n",
       "      <td>неизвестна</td>\n",
       "      <td>0.0</td>\n",
       "      <td>неизвестна</td>\n",
       "      <td>неизвестна</td>\n",
       "      <td>неизвестна</td>\n",
       "      <td>неизвестна</td>\n",
       "      <td>неизвестна</td>\n",
       "      <td>...</td>\n",
       "      <td>1.587647</td>\n",
       "      <td>0.0</td>\n",
       "      <td>0.0</td>\n",
       "      <td>0.399342</td>\n",
       "      <td>0.297297</td>\n",
       "      <td>0.0</td>\n",
       "      <td>0.0</td>\n",
       "      <td>0.0</td>\n",
       "      <td>0.0</td>\n",
       "      <td>0</td>\n",
       "    </tr>\n",
       "    <tr>\n",
       "      <th>3</th>\n",
       "      <td>146844</td>\n",
       "      <td>0</td>\n",
       "      <td>0.000000</td>\n",
       "      <td>неизвестна</td>\n",
       "      <td>0.0</td>\n",
       "      <td>неизвестна</td>\n",
       "      <td>неизвестна</td>\n",
       "      <td>неизвестна</td>\n",
       "      <td>неизвестна</td>\n",
       "      <td>неизвестна</td>\n",
       "      <td>...</td>\n",
       "      <td>1.583333</td>\n",
       "      <td>0.0</td>\n",
       "      <td>0.0</td>\n",
       "      <td>0.552169</td>\n",
       "      <td>0.558824</td>\n",
       "      <td>0.0</td>\n",
       "      <td>0.0</td>\n",
       "      <td>0.0</td>\n",
       "      <td>0.0</td>\n",
       "      <td>0</td>\n",
       "    </tr>\n",
       "    <tr>\n",
       "      <th>4</th>\n",
       "      <td>146845</td>\n",
       "      <td>0</td>\n",
       "      <td>0.000000</td>\n",
       "      <td>неизвестна</td>\n",
       "      <td>0.0</td>\n",
       "      <td>неизвестна</td>\n",
       "      <td>неизвестна</td>\n",
       "      <td>неизвестна</td>\n",
       "      <td>неизвестна</td>\n",
       "      <td>неизвестна</td>\n",
       "      <td>...</td>\n",
       "      <td>1.583333</td>\n",
       "      <td>0.0</td>\n",
       "      <td>0.0</td>\n",
       "      <td>0.611610</td>\n",
       "      <td>0.620690</td>\n",
       "      <td>0.0</td>\n",
       "      <td>0.0</td>\n",
       "      <td>0.0</td>\n",
       "      <td>0.0</td>\n",
       "      <td>0</td>\n",
       "    </tr>\n",
       "  </tbody>\n",
       "</table>\n",
       "<p>5 rows × 105 columns</p>\n",
       "</div>"
      ],
      "text/plain": [
       "       ID  CR_PROD_CNT_IL  AMOUNT_RUB_CLO_PRC APP_REGISTR_RGN_CODE   \n",
       "0  146841               0            0.000000           неизвестна  \\\n",
       "1  146842               0            0.041033           неизвестна   \n",
       "2  146843               0            0.006915           неизвестна   \n",
       "3  146844               0            0.000000           неизвестна   \n",
       "4  146845               0            0.000000           неизвестна   \n",
       "\n",
       "   TURNOVER_DYNAMIC_IL_1M LDEAL_YQZ_COM_GROUP LDEAL_YQZ_CHRG_GROUP   \n",
       "0                     0.0          неизвестна           неизвестна  \\\n",
       "1                     0.0          неизвестна           неизвестна   \n",
       "2                     0.0          неизвестна           неизвестна   \n",
       "3                     0.0          неизвестна           неизвестна   \n",
       "4                     0.0          неизвестна           неизвестна   \n",
       "\n",
       "  AVG_PCT_MONTH_TO_PCLOSE_GROUP MAX_PCLOSE_DATE_GROUP   \n",
       "0                    неизвестна            неизвестна  \\\n",
       "1                    неизвестна            неизвестна   \n",
       "2                    неизвестна            неизвестна   \n",
       "3                    неизвестна            неизвестна   \n",
       "4                    неизвестна            неизвестна   \n",
       "\n",
       "  AVG_PCT_DEBT_TO_DEAL_AMT_GROUP  ... CLNT_SETUP_TENOR   \n",
       "0                     неизвестна  ...         1.593023  \\\n",
       "1                     неизвестна  ...         1.587647   \n",
       "2                     неизвестна  ...         1.587647   \n",
       "3                     неизвестна  ...         1.583333   \n",
       "4                     неизвестна  ...         1.583333   \n",
       "\n",
       "  TURNOVER_DYNAMIC_PAYM_3M TURNOVER_DYNAMIC_PAYM_1M TRANS_AMOUNT_TENDENCY3M   \n",
       "0                      0.0                      0.0                0.483032  \\\n",
       "1                      0.0                      0.0                0.394340   \n",
       "2                      0.0                      0.0                0.399342   \n",
       "3                      0.0                      0.0                0.552169   \n",
       "4                      0.0                      0.0                0.611610   \n",
       "\n",
       "  TRANS_CNT_TENDENCY3M REST_DYNAMIC_CC_1M TURNOVER_DYNAMIC_CC_1M   \n",
       "0             0.406780                0.0                    0.0  \\\n",
       "1             0.545455                0.0                    0.0   \n",
       "2             0.297297                0.0                    0.0   \n",
       "3             0.558824                0.0                    0.0   \n",
       "4             0.620690                0.0                    0.0   \n",
       "\n",
       "  REST_DYNAMIC_CC_3M TURNOVER_DYNAMIC_CC_3M TARGET  \n",
       "0                0.0                    0.0      0  \n",
       "1                0.0                    0.0      0  \n",
       "2                0.0                    0.0      0  \n",
       "3                0.0                    0.0      0  \n",
       "4                0.0                    0.0      0  \n",
       "\n",
       "[5 rows x 105 columns]"
      ]
     },
     "execution_count": 4,
     "metadata": {},
     "output_type": "execute_result"
    }
   ],
   "source": [
    "df.head(5)"
   ]
  },
  {
   "cell_type": "markdown",
   "metadata": {},
   "source": [
    "## Задание 1\n",
    "Назначь колонку `ID` индексом таблицы."
   ]
  },
  {
   "cell_type": "code",
   "execution_count": 5,
   "metadata": {
    "ExecuteTime": {
     "end_time": "2023-06-10T14:54:10.659629Z",
     "start_time": "2023-06-10T14:54:10.534749Z"
    }
   },
   "outputs": [
    {
     "data": {
      "text/html": [
       "<div>\n",
       "<style scoped>\n",
       "    .dataframe tbody tr th:only-of-type {\n",
       "        vertical-align: middle;\n",
       "    }\n",
       "\n",
       "    .dataframe tbody tr th {\n",
       "        vertical-align: top;\n",
       "    }\n",
       "\n",
       "    .dataframe thead th {\n",
       "        text-align: right;\n",
       "    }\n",
       "</style>\n",
       "<table border=\"1\" class=\"dataframe\">\n",
       "  <thead>\n",
       "    <tr style=\"text-align: right;\">\n",
       "      <th></th>\n",
       "      <th>CR_PROD_CNT_IL</th>\n",
       "      <th>AMOUNT_RUB_CLO_PRC</th>\n",
       "      <th>APP_REGISTR_RGN_CODE</th>\n",
       "      <th>TURNOVER_DYNAMIC_IL_1M</th>\n",
       "      <th>LDEAL_YQZ_COM_GROUP</th>\n",
       "      <th>LDEAL_YQZ_CHRG_GROUP</th>\n",
       "      <th>AVG_PCT_MONTH_TO_PCLOSE_GROUP</th>\n",
       "      <th>MAX_PCLOSE_DATE_GROUP</th>\n",
       "      <th>AVG_PCT_DEBT_TO_DEAL_AMT_GROUP</th>\n",
       "      <th>LDEAL_AMT_MONTH_GROUP</th>\n",
       "      <th>...</th>\n",
       "      <th>CLNT_SETUP_TENOR</th>\n",
       "      <th>TURNOVER_DYNAMIC_PAYM_3M</th>\n",
       "      <th>TURNOVER_DYNAMIC_PAYM_1M</th>\n",
       "      <th>TRANS_AMOUNT_TENDENCY3M</th>\n",
       "      <th>TRANS_CNT_TENDENCY3M</th>\n",
       "      <th>REST_DYNAMIC_CC_1M</th>\n",
       "      <th>TURNOVER_DYNAMIC_CC_1M</th>\n",
       "      <th>REST_DYNAMIC_CC_3M</th>\n",
       "      <th>TURNOVER_DYNAMIC_CC_3M</th>\n",
       "      <th>TARGET</th>\n",
       "    </tr>\n",
       "    <tr>\n",
       "      <th>ID</th>\n",
       "      <th></th>\n",
       "      <th></th>\n",
       "      <th></th>\n",
       "      <th></th>\n",
       "      <th></th>\n",
       "      <th></th>\n",
       "      <th></th>\n",
       "      <th></th>\n",
       "      <th></th>\n",
       "      <th></th>\n",
       "      <th></th>\n",
       "      <th></th>\n",
       "      <th></th>\n",
       "      <th></th>\n",
       "      <th></th>\n",
       "      <th></th>\n",
       "      <th></th>\n",
       "      <th></th>\n",
       "      <th></th>\n",
       "      <th></th>\n",
       "      <th></th>\n",
       "    </tr>\n",
       "  </thead>\n",
       "  <tbody>\n",
       "    <tr>\n",
       "      <th>146841</th>\n",
       "      <td>0</td>\n",
       "      <td>0.000000</td>\n",
       "      <td>неизвестна</td>\n",
       "      <td>0.0</td>\n",
       "      <td>неизвестна</td>\n",
       "      <td>неизвестна</td>\n",
       "      <td>неизвестна</td>\n",
       "      <td>неизвестна</td>\n",
       "      <td>неизвестна</td>\n",
       "      <td>неизвестна</td>\n",
       "      <td>...</td>\n",
       "      <td>1.593023</td>\n",
       "      <td>0.0</td>\n",
       "      <td>0.0</td>\n",
       "      <td>0.483032</td>\n",
       "      <td>0.406780</td>\n",
       "      <td>0.0</td>\n",
       "      <td>0.0</td>\n",
       "      <td>0.0</td>\n",
       "      <td>0.0</td>\n",
       "      <td>0</td>\n",
       "    </tr>\n",
       "    <tr>\n",
       "      <th>146842</th>\n",
       "      <td>0</td>\n",
       "      <td>0.041033</td>\n",
       "      <td>неизвестна</td>\n",
       "      <td>0.0</td>\n",
       "      <td>неизвестна</td>\n",
       "      <td>неизвестна</td>\n",
       "      <td>неизвестна</td>\n",
       "      <td>неизвестна</td>\n",
       "      <td>неизвестна</td>\n",
       "      <td>неизвестна</td>\n",
       "      <td>...</td>\n",
       "      <td>1.587647</td>\n",
       "      <td>0.0</td>\n",
       "      <td>0.0</td>\n",
       "      <td>0.394340</td>\n",
       "      <td>0.545455</td>\n",
       "      <td>0.0</td>\n",
       "      <td>0.0</td>\n",
       "      <td>0.0</td>\n",
       "      <td>0.0</td>\n",
       "      <td>0</td>\n",
       "    </tr>\n",
       "    <tr>\n",
       "      <th>146843</th>\n",
       "      <td>0</td>\n",
       "      <td>0.006915</td>\n",
       "      <td>неизвестна</td>\n",
       "      <td>0.0</td>\n",
       "      <td>неизвестна</td>\n",
       "      <td>неизвестна</td>\n",
       "      <td>неизвестна</td>\n",
       "      <td>неизвестна</td>\n",
       "      <td>неизвестна</td>\n",
       "      <td>неизвестна</td>\n",
       "      <td>...</td>\n",
       "      <td>1.587647</td>\n",
       "      <td>0.0</td>\n",
       "      <td>0.0</td>\n",
       "      <td>0.399342</td>\n",
       "      <td>0.297297</td>\n",
       "      <td>0.0</td>\n",
       "      <td>0.0</td>\n",
       "      <td>0.0</td>\n",
       "      <td>0.0</td>\n",
       "      <td>0</td>\n",
       "    </tr>\n",
       "    <tr>\n",
       "      <th>146844</th>\n",
       "      <td>0</td>\n",
       "      <td>0.000000</td>\n",
       "      <td>неизвестна</td>\n",
       "      <td>0.0</td>\n",
       "      <td>неизвестна</td>\n",
       "      <td>неизвестна</td>\n",
       "      <td>неизвестна</td>\n",
       "      <td>неизвестна</td>\n",
       "      <td>неизвестна</td>\n",
       "      <td>неизвестна</td>\n",
       "      <td>...</td>\n",
       "      <td>1.583333</td>\n",
       "      <td>0.0</td>\n",
       "      <td>0.0</td>\n",
       "      <td>0.552169</td>\n",
       "      <td>0.558824</td>\n",
       "      <td>0.0</td>\n",
       "      <td>0.0</td>\n",
       "      <td>0.0</td>\n",
       "      <td>0.0</td>\n",
       "      <td>0</td>\n",
       "    </tr>\n",
       "    <tr>\n",
       "      <th>146845</th>\n",
       "      <td>0</td>\n",
       "      <td>0.000000</td>\n",
       "      <td>неизвестна</td>\n",
       "      <td>0.0</td>\n",
       "      <td>неизвестна</td>\n",
       "      <td>неизвестна</td>\n",
       "      <td>неизвестна</td>\n",
       "      <td>неизвестна</td>\n",
       "      <td>неизвестна</td>\n",
       "      <td>неизвестна</td>\n",
       "      <td>...</td>\n",
       "      <td>1.583333</td>\n",
       "      <td>0.0</td>\n",
       "      <td>0.0</td>\n",
       "      <td>0.611610</td>\n",
       "      <td>0.620690</td>\n",
       "      <td>0.0</td>\n",
       "      <td>0.0</td>\n",
       "      <td>0.0</td>\n",
       "      <td>0.0</td>\n",
       "      <td>0</td>\n",
       "    </tr>\n",
       "  </tbody>\n",
       "</table>\n",
       "<p>5 rows × 104 columns</p>\n",
       "</div>"
      ],
      "text/plain": [
       "        CR_PROD_CNT_IL  AMOUNT_RUB_CLO_PRC APP_REGISTR_RGN_CODE   \n",
       "ID                                                                \n",
       "146841               0            0.000000           неизвестна  \\\n",
       "146842               0            0.041033           неизвестна   \n",
       "146843               0            0.006915           неизвестна   \n",
       "146844               0            0.000000           неизвестна   \n",
       "146845               0            0.000000           неизвестна   \n",
       "\n",
       "        TURNOVER_DYNAMIC_IL_1M LDEAL_YQZ_COM_GROUP LDEAL_YQZ_CHRG_GROUP   \n",
       "ID                                                                        \n",
       "146841                     0.0          неизвестна           неизвестна  \\\n",
       "146842                     0.0          неизвестна           неизвестна   \n",
       "146843                     0.0          неизвестна           неизвестна   \n",
       "146844                     0.0          неизвестна           неизвестна   \n",
       "146845                     0.0          неизвестна           неизвестна   \n",
       "\n",
       "       AVG_PCT_MONTH_TO_PCLOSE_GROUP MAX_PCLOSE_DATE_GROUP   \n",
       "ID                                                           \n",
       "146841                    неизвестна            неизвестна  \\\n",
       "146842                    неизвестна            неизвестна   \n",
       "146843                    неизвестна            неизвестна   \n",
       "146844                    неизвестна            неизвестна   \n",
       "146845                    неизвестна            неизвестна   \n",
       "\n",
       "       AVG_PCT_DEBT_TO_DEAL_AMT_GROUP LDEAL_AMT_MONTH_GROUP  ...   \n",
       "ID                                                           ...   \n",
       "146841                     неизвестна            неизвестна  ...  \\\n",
       "146842                     неизвестна            неизвестна  ...   \n",
       "146843                     неизвестна            неизвестна  ...   \n",
       "146844                     неизвестна            неизвестна  ...   \n",
       "146845                     неизвестна            неизвестна  ...   \n",
       "\n",
       "       CLNT_SETUP_TENOR TURNOVER_DYNAMIC_PAYM_3M TURNOVER_DYNAMIC_PAYM_1M   \n",
       "ID                                                                          \n",
       "146841         1.593023                      0.0                      0.0  \\\n",
       "146842         1.587647                      0.0                      0.0   \n",
       "146843         1.587647                      0.0                      0.0   \n",
       "146844         1.583333                      0.0                      0.0   \n",
       "146845         1.583333                      0.0                      0.0   \n",
       "\n",
       "       TRANS_AMOUNT_TENDENCY3M TRANS_CNT_TENDENCY3M REST_DYNAMIC_CC_1M   \n",
       "ID                                                                       \n",
       "146841                0.483032             0.406780                0.0  \\\n",
       "146842                0.394340             0.545455                0.0   \n",
       "146843                0.399342             0.297297                0.0   \n",
       "146844                0.552169             0.558824                0.0   \n",
       "146845                0.611610             0.620690                0.0   \n",
       "\n",
       "       TURNOVER_DYNAMIC_CC_1M REST_DYNAMIC_CC_3M TURNOVER_DYNAMIC_CC_3M TARGET  \n",
       "ID                                                                              \n",
       "146841                    0.0                0.0                    0.0      0  \n",
       "146842                    0.0                0.0                    0.0      0  \n",
       "146843                    0.0                0.0                    0.0      0  \n",
       "146844                    0.0                0.0                    0.0      0  \n",
       "146845                    0.0                0.0                    0.0      0  \n",
       "\n",
       "[5 rows x 104 columns]"
      ]
     },
     "execution_count": 5,
     "metadata": {},
     "output_type": "execute_result"
    }
   ],
   "source": [
    "# назначение колонки \"ID\" в качестве индекса\n",
    "df = df.set_index(\"ID\")\n",
    "\n",
    "# вывод первых 5 строк таблицы\n",
    "df.head(5)"
   ]
  },
  {
   "cell_type": "markdown",
   "metadata": {},
   "source": [
    "## Задание 2\n",
    "Определимся, что является нашим `X`, а что является нашим `Y`. \n",
    "Для этого изучи документ, описывающий [датасет](../datasets/data_description.docs).\n",
    "Признаки сохрани в переменную `X`. А целевую переменную, которую мы будем предсказывать, в переменную `Y`\n",
    "Выведи размерность этих таблиц"
   ]
  },
  {
   "cell_type": "code",
   "execution_count": 6,
   "metadata": {
    "ExecuteTime": {
     "end_time": "2023-06-10T14:54:19.637130Z",
     "start_time": "2023-06-10T14:54:19.478625Z"
    }
   },
   "outputs": [
    {
     "name": "stdout",
     "output_type": "stream",
     "text": [
      "Размерность X: (355190, 103)\n",
      "Размерность Y: (355190, 1)\n"
     ]
    }
   ],
   "source": [
    "X = df.drop(columns=['TARGET'])\n",
    "Y = df[['TARGET']]\n",
    "\n",
    "print(\"Размерность X:\", X.shape)\n",
    "print(\"Размерность Y:\", Y.shape)"
   ]
  },
  {
   "cell_type": "markdown",
   "metadata": {},
   "source": [
    "## Задание 3\n",
    "Наши признаки содержат в себе как количественные, так и категориальные переменные. Разделим признаки. \n",
    "В этом поможет тип данных колонки. Категориальные переменные сохрани в переменную `X_cat`, а количественные в `X_num`. \n",
    "Выведи число категориальных и количественные переменных."
   ]
  },
  {
   "cell_type": "code",
   "execution_count": 7,
   "metadata": {
    "ExecuteTime": {
     "end_time": "2023-06-10T14:54:42.089349Z",
     "start_time": "2023-06-10T14:54:41.702661Z"
    }
   },
   "outputs": [
    {
     "name": "stdout",
     "output_type": "stream",
     "text": [
      "Число категориальных переменных: 56\n",
      "Число количественных переменных: 47\n"
     ]
    }
   ],
   "source": [
    "# определение категориальных переменных (X_cat)\n",
    "X_cat = X.select_dtypes(include=\"object\")\n",
    "\n",
    "# определение количественных переменных (X_num)\n",
    "X_num = X.select_dtypes(include=[\"int\", \"float\"])\n",
    "\n",
    "# вывод числа категориальных переменных\n",
    "print(\"Число категориальных переменных:\", X_cat.shape[1])\n",
    "\n",
    "# вывод числа количественных переменных\n",
    "print(\"Число количественных переменных:\", X_num.shape[1])"
   ]
  },
  {
   "cell_type": "markdown",
   "metadata": {},
   "source": [
    "## Задание 4\n",
    "Предобработаем количественные переменные. Проведи стандартизацию для признаков X_num.\n",
    "Сохрани результат стандартизации в переменную `X_num_scal`. \n",
    "Выведи среднее и стандартное отклонение по датасету для каждого признака после стандартизации. \n",
    "Значения округли для сотых."
   ]
  },
  {
   "cell_type": "code",
   "execution_count": 8,
   "metadata": {
    "ExecuteTime": {
     "end_time": "2023-06-10T14:55:12.193534Z",
     "start_time": "2023-06-10T14:55:07.390529Z"
    }
   },
   "outputs": [
    {
     "name": "stdout",
     "output_type": "stream",
     "text": [
      "Признак: CR_PROD_CNT_IL  Среднее отклонение: 0.0;  Стандартное отклонение: 1.0\n",
      "Признак: AMOUNT_RUB_CLO_PRC  Среднее отклонение: 0.0;  Стандартное отклонение: 1.0\n",
      "Признак: TURNOVER_DYNAMIC_IL_1M  Среднее отклонение: -0.0;  Стандартное отклонение: 1.0\n",
      "Признак: AMOUNT_RUB_SUP_PRC  Среднее отклонение: 0.0;  Стандартное отклонение: 1.0\n",
      "Признак: REST_DYNAMIC_FDEP_1M  Среднее отклонение: 0.0;  Стандартное отклонение: 1.0\n",
      "Признак: REST_DYNAMIC_SAVE_3M  Среднее отклонение: -0.0;  Стандартное отклонение: 1.0\n",
      "Признак: CR_PROD_CNT_VCU  Среднее отклонение: -0.0;  Стандартное отклонение: 1.0\n",
      "Признак: REST_AVG_CUR  Среднее отклонение: -0.0;  Стандартное отклонение: 1.0\n",
      "Признак: AMOUNT_RUB_NAS_PRC  Среднее отклонение: 0.0;  Стандартное отклонение: 1.0\n",
      "Признак: TRANS_COUNT_SUP_PRC  Среднее отклонение: -0.0;  Стандартное отклонение: 1.0\n",
      "Признак: TRANS_COUNT_NAS_PRC  Среднее отклонение: 0.0;  Стандартное отклонение: 1.0\n",
      "Признак: CR_PROD_CNT_TOVR  Среднее отклонение: -0.0;  Стандартное отклонение: 1.0\n",
      "Признак: CR_PROD_CNT_PIL  Среднее отклонение: -0.0;  Стандартное отклонение: 1.0\n",
      "Признак: TURNOVER_CC  Среднее отклонение: 0.0;  Стандартное отклонение: 1.0\n",
      "Признак: TRANS_COUNT_ATM_PRC  Среднее отклонение: 0.0;  Стандартное отклонение: 1.0\n",
      "Признак: AMOUNT_RUB_ATM_PRC  Среднее отклонение: 0.0;  Стандартное отклонение: 1.0\n",
      "Признак: TURNOVER_PAYM  Среднее отклонение: -0.0;  Стандартное отклонение: 1.0\n",
      "Признак: AGE  Среднее отклонение: 0.0;  Стандартное отклонение: 1.0\n",
      "Признак: CR_PROD_CNT_CC  Среднее отклонение: 0.0;  Стандартное отклонение: 1.0\n",
      "Признак: REST_DYNAMIC_FDEP_3M  Среднее отклонение: -0.0;  Стандартное отклонение: 1.0\n",
      "Признак: REST_DYNAMIC_IL_1M  Среднее отклонение: 0.0;  Стандартное отклонение: 1.0\n",
      "Признак: CR_PROD_CNT_CCFP  Среднее отклонение: 0.0;  Стандартное отклонение: 1.0\n",
      "Признак: REST_DYNAMIC_CUR_1M  Среднее отклонение: -0.0;  Стандартное отклонение: 1.0\n",
      "Признак: REST_AVG_PAYM  Среднее отклонение: -0.0;  Стандартное отклонение: 1.0\n",
      "Признак: LDEAL_GRACE_DAYS_PCT_MED  Среднее отклонение: -0.0;  Стандартное отклонение: 1.0\n",
      "Признак: REST_DYNAMIC_CUR_3M  Среднее отклонение: 0.0;  Стандартное отклонение: 1.0\n",
      "Признак: CNT_TRAN_SUP_TENDENCY3M  Среднее отклонение: 0.0;  Стандартное отклонение: 1.0\n",
      "Признак: TURNOVER_DYNAMIC_CUR_1M  Среднее отклонение: -0.0;  Стандартное отклонение: 1.0\n",
      "Признак: REST_DYNAMIC_PAYM_3M  Среднее отклонение: 0.0;  Стандартное отклонение: 1.0\n",
      "Признак: SUM_TRAN_SUP_TENDENCY3M  Среднее отклонение: 0.0;  Стандартное отклонение: 1.0\n",
      "Признак: REST_DYNAMIC_IL_3M  Среднее отклонение: 0.0;  Стандартное отклонение: 1.0\n",
      "Признак: CNT_TRAN_ATM_TENDENCY3M  Среднее отклонение: 0.0;  Стандартное отклонение: 1.0\n",
      "Признак: CNT_TRAN_ATM_TENDENCY1M  Среднее отклонение: -0.0;  Стандартное отклонение: 1.0\n",
      "Признак: TURNOVER_DYNAMIC_IL_3M  Среднее отклонение: -0.0;  Стандартное отклонение: 1.0\n",
      "Признак: SUM_TRAN_ATM_TENDENCY3M  Среднее отклонение: -0.0;  Стандартное отклонение: 1.0\n",
      "Признак: SUM_TRAN_ATM_TENDENCY1M  Среднее отклонение: -0.0;  Стандартное отклонение: 1.0\n",
      "Признак: REST_DYNAMIC_PAYM_1M  Среднее отклонение: -0.0;  Стандартное отклонение: 1.0\n",
      "Признак: TURNOVER_DYNAMIC_CUR_3M  Среднее отклонение: -0.0;  Стандартное отклонение: 1.0\n",
      "Признак: CLNT_SETUP_TENOR  Среднее отклонение: -0.0;  Стандартное отклонение: 1.0\n",
      "Признак: TURNOVER_DYNAMIC_PAYM_3M  Среднее отклонение: -0.0;  Стандартное отклонение: 1.0\n",
      "Признак: TURNOVER_DYNAMIC_PAYM_1M  Среднее отклонение: -0.0;  Стандартное отклонение: 1.0\n",
      "Признак: TRANS_AMOUNT_TENDENCY3M  Среднее отклонение: -0.0;  Стандартное отклонение: 1.0\n",
      "Признак: TRANS_CNT_TENDENCY3M  Среднее отклонение: -0.0;  Стандартное отклонение: 1.0\n",
      "Признак: REST_DYNAMIC_CC_1M  Среднее отклонение: -0.0;  Стандартное отклонение: 1.0\n",
      "Признак: TURNOVER_DYNAMIC_CC_1M  Среднее отклонение: -0.0;  Стандартное отклонение: 1.0\n",
      "Признак: REST_DYNAMIC_CC_3M  Среднее отклонение: 0.0;  Стандартное отклонение: 1.0\n",
      "Признак: TURNOVER_DYNAMIC_CC_3M  Среднее отклонение: 0.0;  Стандартное отклонение: 1.0\n"
     ]
    }
   ],
   "source": [
    "from sklearn.preprocessing import StandardScaler\n",
    "\n",
    "# создаем экземпляр класса StandardScaler\n",
    "scaler = StandardScaler()\n",
    "\n",
    "# стандартизируем количественные переменные\n",
    "X_num_scal = scaler.fit_transform(X_num)\n",
    "\n",
    "X_num_scal_df = pd.DataFrame(X_num_scal, columns=X_num.columns)\n",
    "\n",
    "# выводим среднее и стандартное отклонение для каждого признака после стандартизации\n",
    "for i, column in enumerate(X_num.columns):\n",
    "    mean = round(X_num_scal[:, i].mean(), 2)\n",
    "    std = round(X_num_scal[:, i].std(), 2)\n",
    "    print(f\"Признак: {column}  Среднее отклонение: {mean};  Стандартное отклонение: {std}\")"
   ]
  },
  {
   "cell_type": "markdown",
   "metadata": {},
   "source": [
    "## Задание 5\n",
    "Алгоритмы машинного обучения плохо работают с категориальными признаками, поэтому их надо трансформировать. \n",
    "Прочитай про One-Hot Encoding подход к кодированию и примени его с нашим категориальным признаком, сохрани \n",
    "результат в переменную `X_cat_ohe`\n",
    "Перед этим удали признак `CLNT_JOB_POSITION` (у него слишком много значений).\n",
    "Выведи количество колонок таблицы `X_cat_ohe`"
   ]
  },
  {
   "cell_type": "code",
   "execution_count": 9,
   "metadata": {
    "ExecuteTime": {
     "end_time": "2023-06-10T14:55:26.046966Z",
     "start_time": "2023-06-10T14:55:22.262473Z"
    }
   },
   "outputs": [
    {
     "name": "stdout",
     "output_type": "stream",
     "text": [
      "Количество колонок таблицы X_cat_ohe: 323\n"
     ]
    }
   ],
   "source": [
    "from sklearn.preprocessing import OneHotEncoder\n",
    "\n",
    "# удаляем признак CLNT_JOB_POSITION\n",
    "X_cat = X_cat.drop(\"CLNT_JOB_POSITION\", axis=1)\n",
    "\n",
    "# применяем One-Hot Encoding к категориальным признакам\n",
    "encoder = OneHotEncoder()\n",
    "X_cat_ohe = pd.DataFrame(encoder.fit_transform(X_cat).toarray(), columns=encoder.get_feature_names_out(X_cat.columns))\n",
    "\n",
    "# выводим количество колонок таблицы X_cat_ohe\n",
    "print(\"Количество колонок таблицы X_cat_ohe:\", X_cat_ohe.shape[1])"
   ]
  },
  {
   "cell_type": "markdown",
   "metadata": {},
   "source": [
    "## Задание 6\n",
    "Объедини 2 предобработанных датасета. Результат запиши в переменную `X_ready`. Сохрани датасет в папку `datasets/data_prepared.csv`\n",
    "Подели получившийся датасет на `train` и `test`. Процент тестовой выборки: `20%`. Использовать параметр `random_state=21`.\n",
    "Выведи размерность обучающей выборки X_train.\n"
   ]
  },
  {
   "cell_type": "code",
   "execution_count": 10,
   "metadata": {
    "ExecuteTime": {
     "end_time": "2023-06-10T14:57:05.720001Z",
     "start_time": "2023-06-10T14:55:53.670273Z"
    }
   },
   "outputs": [
    {
     "name": "stdout",
     "output_type": "stream",
     "text": [
      "Размерность обучающей выборки X_train: (284152, 370)\n"
     ]
    }
   ],
   "source": [
    "from sklearn.model_selection import train_test_split\n",
    "\n",
    "# объединяем предобработанные датасеты\n",
    "X_ready = pd.concat([X_cat_ohe, X_num_scal_df], axis=1)\n",
    "\n",
    "# сохраняем датасет в файл\n",
    "X_ready.to_csv(\"../datasets/data_prepared.csv\", index=False)\n",
    "\n",
    "# делим датасет на обучающую и тестовую выборки\n",
    "X_train, X_test = train_test_split(X_ready, test_size=0.2, random_state=21)\n",
    "\n",
    "# выводим размерность обучающей выборки\n",
    "print(\"Размерность обучающей выборки X_train:\", X_train.shape)"
   ]
  },
  {
   "cell_type": "markdown",
   "metadata": {},
   "source": [
    "## Задание 7 \n",
    "Обучи логистическую регрессию с параметрами: `solver='liblinear'`, `fit_intercept=False`, `penalty='l1'`, `random_state=21`. \n",
    "Посчитай `accuracy` модели на тестовой выборке, сравнив предсказанные значения с реальными.\n",
    "Выведи значение `accuracy` модели на тестовой выборке."
   ]
  },
  {
   "cell_type": "code",
   "execution_count": 11,
   "metadata": {
    "ExecuteTime": {
     "end_time": "2023-06-10T14:59:45.935547Z",
     "start_time": "2023-06-10T14:57:24.246882Z"
    }
   },
   "outputs": [
    {
     "name": "stdout",
     "output_type": "stream",
     "text": [
      "0.9197331005940482\n",
      "Точность модели на тестовой выборке: 91.97%\n"
     ]
    }
   ],
   "source": [
    "from sklearn.model_selection import train_test_split\n",
    "from sklearn.linear_model import LogisticRegression\n",
    "from sklearn.metrics import accuracy_score\n",
    "\n",
    "# делаем разделение на обучающую и тестовую выборки для признаков и целевой переменной\n",
    "X_train, X_test, Y_train, Y_test = train_test_split(X_ready, Y, test_size=0.2, random_state=21)\n",
    "\n",
    "# преобразуем Y_train в одномерный массив\n",
    "Y_train = Y_train.values.ravel()\n",
    "\n",
    "# создаем экземпляр модели логистической регрессии\n",
    "logreg = LogisticRegression(solver='liblinear', fit_intercept=False, penalty='l1', random_state=21)\n",
    "\n",
    "# обучаем модель на обучающих данных\n",
    "logreg.fit(X_train, Y_train)\n",
    "\n",
    "# делаем предсказания на тестовых данных\n",
    "Y_pred = logreg.predict(X_test)\n",
    "\n",
    "# вычисляем точность (accuracy) модели\n",
    "accuracy = accuracy_score(Y_test, Y_pred)\n",
    "\n",
    "# выводим значение точности модели на тестовой выборке\n",
    "print(accuracy)\n",
    "print(\"Точность модели на тестовой выборке: {:.2f}%\".format(accuracy * 100))"
   ]
  },
  {
   "cell_type": "markdown",
   "metadata": {},
   "source": [
    "## Задание 8\n",
    "Посчитай процент клиентов в тестовой выборке, у которых индикатор оттока равен `0`, и сравни с `accuracy`.\n",
    "Тебе что-то должно показаться подозрительным)"
   ]
  },
  {
   "cell_type": "code",
   "execution_count": 12,
   "metadata": {
    "ExecuteTime": {
     "end_time": "2023-06-10T15:00:22.415822Z",
     "start_time": "2023-06-10T15:00:22.407172Z"
    }
   },
   "outputs": [
    {
     "name": "stdout",
     "output_type": "stream",
     "text": [
      "Процент клиентов с индикатором оттока равным 0 в тестовой выборке: 91.96064%\n"
     ]
    }
   ],
   "source": [
    "# расчет процента клиентов в тестовой выборке с индикатором оттока равным 0\n",
    "percent_not_churn = (Y_test[Y_test['TARGET'] == 0].shape[0] / Y_test.shape[0]) * 100\n",
    "\n",
    "# вывод процента клиентов с индикатором оттока равным 0\n",
    "print(\"Процент клиентов с индикатором оттока равным 0 в тестовой выборке: {:.5f}%\".format(percent_not_churn))"
   ]
  },
  {
   "cell_type": "markdown",
   "metadata": {},
   "source": [
    "## Задание 9\n",
    "Построй график, на котором видны топ-10 самых важных факторов по мнению модели в абсолютном значении."
   ]
  },
  {
   "cell_type": "code",
   "execution_count": 13,
   "metadata": {
    "ExecuteTime": {
     "end_time": "2023-06-10T15:01:05.207966Z",
     "start_time": "2023-06-10T15:01:04.054095Z"
    }
   },
   "outputs": [
    {
     "data": {
      "image/png": "[encoded data removed]",
      "text/plain": [
       "<Figure size 1000x600 with 1 Axes>"
      ]
     },
     "metadata": {},
     "output_type": "display_data"
    }
   ],
   "source": [
    "import matplotlib.pyplot as plt\n",
    "import numpy as np\n",
    "\n",
    "# получаем коэффициенты модели\n",
    "coefficients = logreg.coef_[0]\n",
    "\n",
    "# получаем названия всех признаков\n",
    "feature_names = X_ready.columns\n",
    "\n",
    "# создаем DataFrame с коэффициентами и соответствующими признаками\n",
    "coef_df = pd.DataFrame({'Признак': feature_names, 'Коэффициент': coefficients})\n",
    "\n",
    "# сортируем по абсолютному значению коэффициентов в порядке убывания\n",
    "coef_df['Абсолютный_Коэффициент'] = coef_df['Коэффициент'].abs()\n",
    "coef_df = coef_df.sort_values(by='Абсолютный_Коэффициент', ascending=False)\n",
    "\n",
    "# выбираем топ-10 признаков\n",
    "top_10 = coef_df.head(10).iloc[::-1]\n",
    "\n",
    "# генерируем цвета для столбцов\n",
    "colors = plt.cm.viridis(np.linspace(0, 1, len(top_10)))\n",
    "\n",
    "# построение графика\n",
    "plt.figure(figsize=(10, 6))\n",
    "plt.barh(top_10['Признак'], top_10['Абсолютный_Коэффициент'], color=colors)\n",
    "plt.xlabel('Абсолютный Коэффициент')\n",
    "plt.ylabel('Признак')\n",
    "plt.title('Топ-10 Важных Признаков')\n",
    "plt.show()"
   ]
  },
  {
   "cell_type": "code",
   "execution_count": null,
   "metadata": {},
   "outputs": [],
   "source": []
  }
 ],
 "metadata": {
  "colab": {
   "collapsed_sections": [
    "KPtcdkJ3Pc4I"
   ],
   "name": "d02_task.ipynb",
   "provenance": []
  },
  "kernelspec": {
   "display_name": "Python 3 (ipykernel)",
   "language": "python",
   "name": "python3"
  },
  "language_info": {
   "codemirror_mode": {
    "name": "ipython",
    "version": 3
   },
   "file_extension": ".py",
   "mimetype": "text/x-python",
   "name": "python",
   "nbconvert_exporter": "python",
   "pygments_lexer": "ipython3",
   "version": "3.11.0"
  },
  "nbTranslate": {
   "displayLangs": [
    "*"
   ],
   "hotkey": "alt-t",
   "langInMainMenu": true,
   "sourceLang": "en",
   "targetLang": "fr",
   "useGoogleTranslate": true
  },
  "toc": {
   "base_numbering": 1,
   "nav_menu": {},
   "number_sections": true,
   "sideBar": true,
   "skip_h1_title": false,
   "title_cell": "Table of Contents",
   "title_sidebar": "Contents",
   "toc_cell": false,
   "toc_position": {},
   "toc_section_display": true,
   "toc_window_display": false
  }
 },
 "nbformat": 4,
 "nbformat_minor": 4
}
